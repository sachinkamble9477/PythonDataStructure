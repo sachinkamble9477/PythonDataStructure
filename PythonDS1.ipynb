{
  "nbformat": 4,
  "nbformat_minor": 0,
  "metadata": {
    "colab": {
      "name": "PythonDS1.ipynb",
      "provenance": [],
      "collapsed_sections": []
    },
    "kernelspec": {
      "name": "python3",
      "display_name": "Python 3"
    },
    "language_info": {
      "name": "python"
    }
  },
  "cells": [
    {
      "cell_type": "markdown",
      "metadata": {
        "id": "KscClKCtpxb9"
      },
      "source": [
        "String operation"
      ]
    },
    {
      "cell_type": "code",
      "metadata": {
        "colab": {
          "base_uri": "https://localhost:8080/"
        },
        "id": "VnjDUSTVpqnq",
        "outputId": "a4efb814-b7f6-42c1-893b-c8714726251d"
      },
      "source": [
        "s=\"foobar is game\"\n",
        "\n",
        "print(len(s))\n",
        "print(s[4])"
      ],
      "execution_count": null,
      "outputs": [
        {
          "output_type": "stream",
          "name": "stdout",
          "text": [
            "14\n",
            "a\n"
          ]
        }
      ]
    },
    {
      "cell_type": "markdown",
      "metadata": {
        "id": "U4aD5JPVsyYI"
      },
      "source": [
        "String Other Operation"
      ]
    },
    {
      "cell_type": "code",
      "metadata": {
        "colab": {
          "base_uri": "https://localhost:8080/"
        },
        "id": "wRXDqyTnrIso",
        "outputId": "a2a97cbb-f447-44dd-efb2-827cc963ff5d"
      },
      "source": [
        "s=\"magic\"\n",
        "for element in s:\n",
        "  print(element)\n"
      ],
      "execution_count": null,
      "outputs": [
        {
          "output_type": "stream",
          "text": [
            "m\n",
            "a\n",
            "g\n",
            "i\n",
            "c\n"
          ],
          "name": "stdout"
        }
      ]
    },
    {
      "cell_type": "code",
      "metadata": {
        "colab": {
          "base_uri": "https://localhost:8080/"
        },
        "id": "4x-j7KU_tI9Z",
        "outputId": "f90638d6-7180-449b-bc0b-2a55b146240a"
      },
      "source": [
        "m=\"job\"\n",
        "for element in range(0,len(m)):\n",
        "  print(m[element])"
      ],
      "execution_count": null,
      "outputs": [
        {
          "output_type": "stream",
          "name": "stdout",
          "text": [
            "j\n",
            "o\n",
            "b\n"
          ]
        }
      ]
    },
    {
      "cell_type": "code",
      "metadata": {
        "colab": {
          "base_uri": "https://localhost:8080/"
        },
        "id": "jFFO98vGuW3N",
        "outputId": "13608227-8bf0-48bd-a5d4-197946137a2d"
      },
      "source": [
        "word=\"bananamanana\"\n",
        "count=0\n",
        "for letter in word:\n",
        "  if letter=='a':\n",
        "    count=count+1\n",
        "print(count)"
      ],
      "execution_count": null,
      "outputs": [
        {
          "output_type": "stream",
          "name": "stdout",
          "text": [
            "6\n"
          ]
        }
      ]
    },
    {
      "cell_type": "code",
      "metadata": {
        "colab": {
          "base_uri": "https://localhost:8080/"
        },
        "id": "2Ue3h5qbvXfc",
        "outputId": "b2a626b3-8dcc-4250-fbf7-85315fbfdbd4"
      },
      "source": [
        "s=\"helloworld\"\n",
        "print(s[:5]) #end point will not consider i.e exluded\n",
        "print(s[2:5])\n",
        "print(s[5:])\n",
        "print(s[2:5:2])\n",
        "print(s[::-1]) #reverse string priint"
      ],
      "execution_count": null,
      "outputs": [
        {
          "output_type": "stream",
          "name": "stdout",
          "text": [
            "hello\n",
            "llo\n",
            "world\n",
            "lo\n",
            "dlrowolleh\n"
          ]
        }
      ]
    },
    {
      "cell_type": "code",
      "metadata": {
        "colab": {
          "base_uri": "https://localhost:8080/"
        },
        "id": "BtqHr-tEtVB6",
        "outputId": "2def7e5b-ca44-42a8-f21f-1093c122cfe1"
      },
      "source": [
        "fruit=\"banana\"\n",
        "print('n'in fruit)\n",
        "print('m' in fruit)"
      ],
      "execution_count": null,
      "outputs": [
        {
          "output_type": "stream",
          "text": [
            "True\n",
            "False\n"
          ],
          "name": "stdout"
        }
      ]
    },
    {
      "cell_type": "code",
      "metadata": {
        "colab": {
          "base_uri": "https://localhost:8080/"
        },
        "id": "Bjum7VtzzF1p",
        "outputId": "c4cb71d6-5cbe-4f43-c0b0-185043da34f7"
      },
      "source": [
        "string=\"practicefast\"\n",
        "print(string.isupper())\n",
        "print(string.islower())\n",
        "print(string.upper())\n",
        "\n",
        "s=\"HARDWORK\"\n",
        "print(s.lower())\n"
      ],
      "execution_count": null,
      "outputs": [
        {
          "output_type": "stream",
          "text": [
            "False\n",
            "True\n",
            "PRACTICEFAST\n",
            "hardwork\n"
          ],
          "name": "stdout"
        }
      ]
    },
    {
      "cell_type": "markdown",
      "metadata": {
        "id": "A2r7Pwzm03tw"
      },
      "source": [
        "Stripping the white spaces\n"
      ]
    },
    {
      "cell_type": "code",
      "metadata": {
        "colab": {
          "base_uri": "https://localhost:8080/"
        },
        "id": "LabrhfkS09v2",
        "outputId": "8d32f1af-5864-4ee6-a0be-45bea1b702c4"
      },
      "source": [
        "greet=\"    hello bob/\"\n",
        "print(greet.lstrip())\n",
        "\n",
        "meet=\"/water   \"\n",
        "print(meet.rstrip())\n",
        "\n",
        "weet=\"   jamun    \"\n",
        "print(weet.strip())"
      ],
      "execution_count": null,
      "outputs": [
        {
          "output_type": "stream",
          "name": "stdout",
          "text": [
            "hello bob/\n",
            "/water\n",
            "jamun\n"
          ]
        }
      ]
    },
    {
      "cell_type": "markdown",
      "metadata": {
        "id": "ffyuo9OU8l57"
      },
      "source": [
        "Parcing and Extracting"
      ]
    },
    {
      "cell_type": "code",
      "metadata": {
        "colab": {
          "base_uri": "https://localhost:8080/"
        },
        "id": "xgQFMCRM2eWP",
        "outputId": "469ba424-49c8-4b9e-a09b-2210ed343f1a"
      },
      "source": [
        "\n",
        "data=' manojkawati577@gmail.com  sat jan 5'\n",
        "\n",
        "atpos=data.find('@')\n",
        "print(atpos)\n",
        "\n",
        "stpos=data.find(' ',atpos)\n",
        "print(stpos)\n",
        "host=data[atpos+1:stpos]\n",
        "print(host)\n",
        "\n",
        "max=data.find(' ')\n",
        "print(max)\n",
        "\n",
        "user=data[max:atpos]\n",
        "print(user)"
      ],
      "execution_count": null,
      "outputs": [
        {
          "output_type": "stream",
          "name": "stdout",
          "text": [
            "15\n",
            "25\n",
            "gmail.com\n",
            "0\n",
            " manojkawati577\n"
          ]
        }
      ]
    },
    {
      "cell_type": "markdown",
      "metadata": {
        "id": "SpvwsmIhDc28"
      },
      "source": [
        "List and its operation"
      ]
    },
    {
      "cell_type": "code",
      "metadata": {
        "id": "Wnj27VDFDn6M",
        "colab": {
          "base_uri": "https://localhost:8080/"
        },
        "outputId": "20cb02d8-2785-4bfe-d411-439978246809"
      },
      "source": [
        "#various list\n",
        "list=[\"apple\",\"banana\",\"orange\",3.5,12 ,[5,2]]\n",
        "print(list)\n",
        "\n",
        "#list are mutable(changeble) by indexing number but string are not \n",
        "list[2]=\"grapes\"\n",
        "print(list)\n",
        "\n",
        "#using len() function and range() function for calculating number of element\n",
        "print(len(list))\n",
        "\n",
        "print(range(len(list)))\n",
        "\n",
        "#two loops using \"for\" and 'range function\n",
        "for fruit in list:\n",
        "  print(\"hello\",list)\n",
        "\n",
        "#using range function\n",
        "for i in range (len(list)):\n",
        "  print(\"khalo\",list[i])\n",
        "\n"
      ],
      "execution_count": null,
      "outputs": [
        {
          "output_type": "stream",
          "text": [
            "['apple', 'banana', 'orange', 3.5, 12, [5, 2]]\n",
            "['apple', 'banana', 'grapes', 3.5, 12, [5, 2]]\n",
            "6\n",
            "range(0, 6)\n",
            "hello ['apple', 'banana', 'grapes', 3.5, 12, [5, 2]]\n",
            "hello ['apple', 'banana', 'grapes', 3.5, 12, [5, 2]]\n",
            "hello ['apple', 'banana', 'grapes', 3.5, 12, [5, 2]]\n",
            "hello ['apple', 'banana', 'grapes', 3.5, 12, [5, 2]]\n",
            "hello ['apple', 'banana', 'grapes', 3.5, 12, [5, 2]]\n",
            "hello ['apple', 'banana', 'grapes', 3.5, 12, [5, 2]]\n",
            "khalo apple\n",
            "khalo banana\n",
            "khalo grapes\n",
            "khalo 3.5\n",
            "khalo 12\n",
            "khalo [5, 2]\n"
          ],
          "name": "stdout"
        }
      ]
    },
    {
      "cell_type": "markdown",
      "metadata": {
        "id": "xW_m7SrTgxCm"
      },
      "source": [
        "List slicing"
      ]
    },
    {
      "cell_type": "code",
      "metadata": {
        "colab": {
          "base_uri": "https://localhost:8080/"
        },
        "id": "BbDUvfFxhCfQ",
        "outputId": "c7d540af-3070-4075-ced9-2b6b449f43ae"
      },
      "source": [
        "t=[9,41,12,3,74,15,84,46]\n",
        "print(t[:5])\n",
        "print(t[2:5])\n",
        "print(t[2:])\n",
        "print(t[:])\n",
        "\n",
        "\n",
        "#using in for searching  return TRUE if in list otherwise FALSE\n",
        "print(9 in t) #TRUE\n",
        "print(15 in t) #TRUE\n",
        "print(99 in t) #FALSE\n",
        "\n",
        "#using sort() method to sort ascending/alphabetically \n",
        "t.sort()\n",
        "print(t)\n"
      ],
      "execution_count": null,
      "outputs": [
        {
          "output_type": "stream",
          "name": "stdout",
          "text": [
            "[9, 41, 12, 3, 74]\n",
            "[12, 3, 74]\n",
            "[12, 3, 74, 15, 84, 46]\n",
            "[9, 41, 12, 3, 74, 15, 84, 46]\n",
            "True\n",
            "True\n",
            "False\n",
            "[3, 9, 12, 15, 41, 46, 74, 84]\n"
          ]
        }
      ]
    },
    {
      "cell_type": "code",
      "metadata": {
        "colab": {
          "base_uri": "https://localhost:8080/"
        },
        "id": "EthA9T7UkjAE",
        "outputId": "206a8839-0510-446e-ab13-61680392e2bb"
      },
      "source": [
        "#building list from scratch i.e empty by using function \"append\" \n",
        "stuff =[] \n",
        "stuff.append('book')\n",
        "stuff.append('pen')\n",
        "stuff.append(99)\n",
        "print(stuff)"
      ],
      "execution_count": null,
      "outputs": [
        {
          "output_type": "stream",
          "text": [
            "['book', 'pen', 99]\n"
          ],
          "name": "stdout"
        }
      ]
    },
    {
      "cell_type": "markdown",
      "metadata": {
        "id": "Ls1eqGHkoZtO"
      },
      "source": [
        "SUM/AVERAGE using list "
      ]
    },
    {
      "cell_type": "code",
      "metadata": {
        "colab": {
          "base_uri": "https://localhost:8080/"
        },
        "id": "dqeAzYscogQ5",
        "outputId": "a969bcde-7653-4829-c592-ab375dd70bc1"
      },
      "source": [
        "\n",
        "#using basic method\n",
        "total=0\n",
        "count=0\n",
        "while True:\n",
        "  inp=input('enter a number')\n",
        "  if inp=='done':break\n",
        "  value=float(inp)\n",
        "  total=total+value\n",
        "  count=count+1\n",
        "average= total/count\n",
        "print('Average:',average)\n"
      ],
      "execution_count": null,
      "outputs": [
        {
          "output_type": "stream",
          "text": [
            "enter a number25\n",
            "enter a number25\n",
            "enter a number30\n",
            "enter a number30\n",
            "enter a number30\n",
            "enter a numberdone\n",
            "Average: 28.0\n"
          ],
          "name": "stdout"
        }
      ]
    },
    {
      "cell_type": "code",
      "metadata": {
        "colab": {
          "base_uri": "https://localhost:8080/"
        },
        "id": "ylSlNd__tovi",
        "outputId": "5cdba41e-3f8e-487f-e887-c0d206570ef1"
      },
      "source": [
        "#using user defined list function \n",
        "numlist=[]\n",
        "while True:\n",
        "  inp=input('enter a number')\n",
        "  if inp=='done':break\n",
        "  value=float (inp)\n",
        "  numlist.append(value)\n",
        "average=sum(numlist)/len(numlist)\n",
        "print(\"Average\",average) "
      ],
      "execution_count": null,
      "outputs": [
        {
          "output_type": "stream",
          "text": [
            "enter a number25\n",
            "enter a number25\n",
            "enter a number30\n",
            "enter a number30\n",
            "enter a number30\n",
            "enter a numberdone\n",
            "Average 28.0\n"
          ],
          "name": "stdout"
        }
      ]
    },
    {
      "cell_type": "markdown",
      "metadata": {
        "id": "piL65LvCwqQM"
      },
      "source": [
        "Split Function "
      ]
    },
    {
      "cell_type": "code",
      "metadata": {
        "colab": {
          "base_uri": "https://localhost:8080/"
        },
        "id": "LywbZRpDw32u",
        "outputId": "ec666906-f1ac-4790-c780-abc1cf8ba2e8"
      },
      "source": [
        "#split function use to convert string to list\n",
        "str ='with three friends'\n",
        "stuff=str.split()\n",
        "print(stuff)\n",
        "print(len(stuff))\n",
        "for words in stuff:\n",
        "  print(words)\n",
        "\n",
        "#Delimeter is function parameter used with split function. by default consider space as delimeter also(multiple space as single space)\n",
        "line=\"there are a lot       of spaces\"\n",
        "etc=line.split()\n",
        "print(etc)\n",
        "\n",
        "#here we have to specify the delimeter\n",
        "star='first;second;third'\n",
        "thing=star.split(';') # ; use as delimeter\n",
        "print(thing)\n",
        "\n",
        "#Double split pattern 1st split on space basis 2nd according to our requirement\n",
        "\n",
        "data=\"from sachinkamble8806@gmail.com  jan 05 12:30 \"\n",
        "words=data.split()\n",
        "email=words[1]\n",
        "print(email)\n",
        "\n",
        "pieces=email.split('@') # @ used as delimeter\n",
        "print(pieces)\n",
        "\n",
        "print(pieces[1])"
      ],
      "execution_count": null,
      "outputs": [
        {
          "output_type": "stream",
          "text": [
            "['with', 'three', 'friends']\n",
            "3\n",
            "with\n",
            "three\n",
            "friends\n",
            "['there', 'are', 'a', 'lot', 'of', 'spaces']\n",
            "['first', 'second', 'third']\n"
          ],
          "name": "stdout"
        }
      ]
    },
    {
      "cell_type": "markdown",
      "metadata": {
        "id": "BvPuFs0x4Y0j"
      },
      "source": [
        "Dictionaris and operations"
      ]
    },
    {
      "cell_type": "code",
      "metadata": {
        "colab": {
          "base_uri": "https://localhost:8080/"
        },
        "id": "gx_-D_ffALkv",
        "outputId": "6b0916f6-e0b4-48f0-b63a-8af7f3ca4258"
      },
      "source": [
        " # Its like bag, unordred collection of data. its work on key-value points (2) dictionaris are mutable\n",
        " # We can create dictionaris using dict() functionn to add the value\n",
        "bag=dict()\n",
        "bag['money']=120\n",
        "bag['candy']=2\n",
        "bag['tissues']=13\n",
        "print(bag)\n",
        "\n",
        "bag['candy']=bag['candy']+3   # shows dicionaries are mutable */ keys are used for changing the values or accessing  NOT INDEX VALUES\n",
        "print(bag)\n",
        "\n",
        "opo={}    #creating empty dictionaris\n",
        "print(opo)\n"
      ],
      "execution_count": null,
      "outputs": [
        {
          "output_type": "stream",
          "name": "stdout",
          "text": [
            "{'money': 120, 'candy': 2, 'tissues': 13}\n",
            "{'money': 120, 'candy': 5, 'tissues': 13}\n",
            "{}\n"
          ]
        }
      ]
    },
    {
      "cell_type": "code",
      "metadata": {
        "colab": {
          "base_uri": "https://localhost:8080/"
        },
        "id": "14I2E4FYAZGQ",
        "outputId": "c8a1cd7a-7891-4766-dfd4-11543c026b7c"
      },
      "source": [
        "#get() functions to get freuency of word in dictionarie  this function only in dictionary\n",
        "#use get() function provide with default value 0 (zero) the key is not yet in dictionaris - then just add one 1\n",
        "\n",
        "count=dict()\n",
        "names= ['man','wen','man','zqun','wen']\n",
        "for var in names:\n",
        "  count[var]=count.get(var,0)+1   # in one line of code gives frequency of words\n",
        "print(count)"
      ],
      "execution_count": null,
      "outputs": [
        {
          "output_type": "stream",
          "name": "stdout",
          "text": [
            "{'man': 2, 'wen': 2, 'zqun': 1}\n"
          ]
        }
      ]
    },
    {
      "cell_type": "code",
      "metadata": {
        "colab": {
          "base_uri": "https://localhost:8080/"
        },
        "id": "98__7GymAtI3",
        "outputId": "0b5c21e1-8727-4219-b30e-c419d80b66e1"
      },
      "source": [
        "#Taking user input and other program is same\n",
        "\n",
        "mob=dict()\n",
        "jam=input(\"enter a line \")\n",
        "word=jam.split()\n",
        "print(word)\n",
        "for mam in word:\n",
        "  mob[mam]=mob.get(mam,0)+1\n",
        "print(mob)"
      ],
      "execution_count": null,
      "outputs": [
        {
          "output_type": "stream",
          "name": "stdout",
          "text": [
            "enter a line pract in the pract shuld in pract\n",
            "['pract', 'in', 'the', 'pract', 'shuld', 'in', 'pract']\n",
            "{'pract': 3, 'in': 2, 'the': 1, 'shuld': 1}\n"
          ]
        }
      ]
    },
    {
      "cell_type": "markdown",
      "metadata": {
        "id": "bJy7QNoPiYDC"
      },
      "source": [
        "Loops and Dicionaries\n"
      ]
    },
    {
      "cell_type": "code",
      "metadata": {
        "colab": {
          "base_uri": "https://localhost:8080/"
        },
        "id": "9QDkzTpCBHUl",
        "outputId": "f723e4e5-1390-4ece-c646-7e1ffe01d6cb"
      },
      "source": [
        "# Even though dictionaris are not stored in order , we can go through for loop with dicionaris using KEYS and looks the value \n",
        "counts={'chuck':1,'fred':42,'jan':100}\n",
        "for keys in counts:\n",
        "  print(keys,counts[keys]) "
      ],
      "execution_count": null,
      "outputs": [
        {
          "output_type": "stream",
          "name": "stdout",
          "text": [
            "chuck 1\n",
            "fred 42\n",
            "jan 100\n"
          ]
        }
      ]
    },
    {
      "cell_type": "code",
      "metadata": {
        "colab": {
          "base_uri": "https://localhost:8080/"
        },
        "id": "G9SbwMmSBUoO",
        "outputId": "608b320b-2416-4f55-95de-8a82dc19d212"
      },
      "source": [
        "# Retriving keys and values we get both keys and values by following functions\n",
        "jjj={'chuck':1,'fred':42,'jan':100}\n",
        "print(jjj.keys()) \n",
        "print(jjj.values())\n",
        "print(jjj.items())"
      ],
      "execution_count": null,
      "outputs": [
        {
          "output_type": "stream",
          "name": "stdout",
          "text": [
            "dict_keys(['chuck', 'fred', 'jan'])\n",
            "dict_values([1, 42, 100])\n",
            "dict_items([('chuck', 1), ('fred', 42), ('jan', 100)])\n"
          ]
        }
      ]
    },
    {
      "cell_type": "code",
      "metadata": {
        "colab": {
          "base_uri": "https://localhost:8080/"
        },
        "id": "b4BB4eT9BZaz",
        "outputId": "51d8c31c-4a49-4156-f8fc-bf33caf678b7"
      },
      "source": [
        "#looping keys and values together, using two iteration variable\n",
        "#first iteration is for keys & 2nd for values\n",
        "for aaa,bbb in jjj.items():\n",
        "  print(aaa,bbb)"
      ],
      "execution_count": null,
      "outputs": [
        {
          "output_type": "stream",
          "name": "stdout",
          "text": [
            "chuck 1\n",
            "fred 42\n",
            "jan 100\n"
          ]
        }
      ]
    }
  ]
}